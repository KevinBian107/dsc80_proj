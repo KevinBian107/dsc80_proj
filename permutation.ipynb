{
 "cells": [
  {
   "cell_type": "markdown",
   "metadata": {},
   "source": [
    "# Permutation Testing\n",
    "Does the mean TFIDF for high score recipe and low score recipes seems to come from the same population distribution?"
   ]
  },
  {
   "cell_type": "code",
   "execution_count": 103,
   "metadata": {},
   "outputs": [],
   "source": [
    "import pandas as pd\n",
    "import numpy as np\n",
    "from pathlib import Path\n",
    "import plotly.express as px\n",
    "pd.options.plotting.backend = 'plotly'\n",
    "from itertools import chain\n",
    "\n",
    "from utils.eda import *\n",
    "from utils.dsc80_utils import *\n",
    "from utils.graph import *\n",
    "\n",
    "from sklearn.feature_extraction.text import TfidfVectorizer"
   ]
  },
  {
   "cell_type": "code",
   "execution_count": 13,
   "metadata": {},
   "outputs": [
    {
     "name": "stdout",
     "output_type": "stream",
     "text": [
      "The autoreload extension is already loaded. To reload it, use:\n",
      "  %reload_ext autoreload\n"
     ]
    }
   ],
   "source": [
    "%load_ext autoreload\n",
    "%autoreload 2"
   ]
  },
  {
   "cell_type": "code",
   "execution_count": 130,
   "metadata": {},
   "outputs": [],
   "source": [
    "interactions = pd.read_csv('food_data/RAW_interactions.csv')\n",
    "recipes = pd.read_csv('food_data/RAW_recipes.csv')\n",
    "step0 = recipes.merge(interactions, how='left', left_on='id', right_on='recipe_id', indicator=True)\n",
    "df = (step0\n",
    "      .pipe(initial)\n",
    "      .pipe(transform_df)\n",
    "      .pipe(outlier)\n",
    "      .pipe(group_recipe)\n",
    "      #.pipe(group_user)\n",
    ")"
   ]
  },
  {
   "cell_type": "markdown",
   "metadata": {},
   "source": [
    "## Hypothesis Testing Ideas\n",
    "**Analysis**:\n",
    "Clearly state a pair of hypotheses and perform a hypothesis test or permutation test that is not related to missingness. Feel free to use one of the example questions stated in the “Example Questions and Prediction Problems” section of your dataset’s description page or pose a hypothesis test of your own.\n",
    "\n",
    "**Report**:\n",
    "Clearly state your null and alternative hypotheses, your choice of test statistic and significance level, the resulting p-value, and your conclusion. Justify why these choices are good choices for answering the question you are trying to answer.\n",
    "\n",
    "Optional: Embed a visualization related to your hypothesis test in your website.\n",
    "\n",
    "Tip: When making writing your conclusions to the statistical tests in this project, never use language that implies an absolute conclusion; since we are performing statistical tests and not randomized controlled trials, we cannot prove that either hypothesis is 100% true or false."
   ]
  },
  {
   "cell_type": "markdown",
   "metadata": {},
   "source": [
    "## Some questions that can be asked:\n",
    "### Question 1: Hypothesis Testing\n",
    "Does number of words in a description matching highest 20 TF-IDF words in one reciepe (with respect to recipe description that the revier rated high in) results in a higher rating? -> extend even into maximize distance from rated low recipe high TF-IDF words!\n",
    "\n",
    "- **null**: number of words in each description matching highest 20 TF-IDF words for each user have no relationship with higher rating\n",
    "- **alternative**: number of words in each description matching highest 20 TF-IDF words for each user results in a higher rating\n",
    "\n",
    "### Question 2: Permutation Testing\n",
    "Does the mean TFIDF for high score recipe and low score recipes seems to come from the same population distribution?\n",
    "\n",
    "- **null**: mean of TFIDF for high score recipe and low score recipe is from the same population\n",
    "- **alternative**: null is wrong\n",
    "- **test statistics**: absolute differences in max of TF-IDF (difference between the TFIDF of the most important word to compare high and low rating recipes)"
   ]
  },
  {
   "cell_type": "markdown",
   "metadata": {},
   "source": [
    "## Preparation"
   ]
  },
  {
   "cell_type": "code",
   "execution_count": 169,
   "metadata": {},
   "outputs": [],
   "source": [
    "df = df[['name','description','tags','steps','ingredients','contributor_id','rating']] # avg_rating = rating here\n",
    "df_high = df[df['rating']>=4]\n",
    "df_low = df[df['rating']<4]"
   ]
  },
  {
   "cell_type": "code",
   "execution_count": 170,
   "metadata": {},
   "outputs": [
    {
     "data": {
      "text/plain": [
       "True"
      ]
     },
     "execution_count": 170,
     "metadata": {},
     "output_type": "execute_result"
    }
   ],
   "source": [
    "all(df_high['rating'] >= 4)"
   ]
  },
  {
   "cell_type": "code",
   "execution_count": 171,
   "metadata": {},
   "outputs": [],
   "source": [
    "lst_high = df_high['description'].explode().astype(str)\n",
    "lst_low = df_low['description'].explode().astype(str)"
   ]
  },
  {
   "cell_type": "code",
   "execution_count": 172,
   "metadata": {},
   "outputs": [
    {
     "data": {
      "text/plain": [
       "recipe_id\n",
       "275030.0    thank you paula deen!  hubby just happened to ...\n",
       "275033.0                           from woman's day magazine.\n",
       "275036.0    i threw some things together in a dutch oven a...\n",
       "                                  ...                        \n",
       "537175.0    sometimes you need rolls fast. here's a perfec...\n",
       "537458.0    cream cheese is the secret ingredient in these...\n",
       "537716.0    these party-style chicken cheesesteaks are fla...\n",
       "Name: description, Length: 50022, dtype: object"
      ]
     },
     "execution_count": 172,
     "metadata": {},
     "output_type": "execute_result"
    }
   ],
   "source": [
    "lst_high"
   ]
  },
  {
   "cell_type": "markdown",
   "metadata": {},
   "source": [
    "## TF-IDF Calculation"
   ]
  },
  {
   "cell_type": "code",
   "execution_count": 173,
   "metadata": {},
   "outputs": [
    {
     "data": {
      "text/plain": [
       "TfidfVectorizer()"
      ]
     },
     "execution_count": 173,
     "metadata": {},
     "output_type": "execute_result"
    }
   ],
   "source": [
    "count_high = TfidfVectorizer()\n",
    "count_low = TfidfVectorizer()\n",
    "count_high.fit(lst_high.values)\n",
    "count_low.fit(lst_low.values)"
   ]
  },
  {
   "cell_type": "code",
   "execution_count": 174,
   "metadata": {},
   "outputs": [
    {
     "data": {
      "text/plain": [
       "(8636,)"
      ]
     },
     "execution_count": 174,
     "metadata": {},
     "output_type": "execute_result"
    }
   ],
   "source": [
    "count_low.get_feature_names_out().shape"
   ]
  },
  {
   "cell_type": "code",
   "execution_count": 175,
   "metadata": {},
   "outputs": [
    {
     "data": {
      "text/plain": [
       "(33718,)"
      ]
     },
     "execution_count": 175,
     "metadata": {},
     "output_type": "execute_result"
    }
   ],
   "source": [
    "count_high.get_feature_names_out().shape"
   ]
  },
  {
   "cell_type": "code",
   "execution_count": 176,
   "metadata": {},
   "outputs": [],
   "source": [
    "high_tfidf = pd.DataFrame(count_high.transform(lst_high.values).toarray(),\n",
    "                        columns=count_high.get_feature_names_out()\n",
    "                        )\n",
    "\n",
    "low_tfidf = pd.DataFrame(count_low.transform(lst_low.values).toarray(),\n",
    "                        columns=count_low.get_feature_names_out()\n",
    "                        )"
   ]
  },
  {
   "cell_type": "code",
   "execution_count": 177,
   "metadata": {},
   "outputs": [
    {
     "data": {
      "text/plain": [
       "0       brings\n",
       "1    childhood\n",
       "2      company\n",
       "3        tummy\n",
       "4    asparagus\n",
       "dtype: object"
      ]
     },
     "execution_count": 177,
     "metadata": {},
     "output_type": "execute_result"
    }
   ],
   "source": [
    "high_tfidf.idxmax(axis=1).iloc[:5]\n",
    "low_tfidf.idxmax(axis=1).iloc[:5]"
   ]
  },
  {
   "cell_type": "markdown",
   "metadata": {},
   "source": [
    "## Get Highest TFIDF Words for Each Recipe (Visualization Purpose)"
   ]
  },
  {
   "cell_type": "code",
   "execution_count": 114,
   "metadata": {},
   "outputs": [],
   "source": [
    "def five_largest(row):\n",
    "    return ', '.join(row.index[row.argsort()][-5:])\n",
    "\n",
    "keywords_high = high_tfidf.apply(five_largest, axis=1)\n",
    "keywords_high = pd.concat([df_high.reset_index()['recipe_id'],\n",
    "                         keywords_high\n",
    "                         ], axis=1)\n",
    "\n",
    "keywords_low = low_tfidf.apply(five_largest, axis=1)\n",
    "keywords_low = pd.concat([df_low.reset_index()['recipe_id'],\n",
    "                         keywords_low\n",
    "                         ], axis=1)"
   ]
  },
  {
   "cell_type": "code",
   "execution_count": 115,
   "metadata": {},
   "outputs": [],
   "source": [
    "key_high = keywords_high.set_index('recipe_id')\n",
    "key_low = keywords_low.set_index('recipe_id')"
   ]
  },
  {
   "cell_type": "code",
   "execution_count": 116,
   "metadata": {},
   "outputs": [],
   "source": [
    "# recipe_user_word = df2['user_id'].apply(lambda x: [' '.join(dict.loc[id].values) for id in x][0].split(','))\n",
    "# recipe_word_split = df2['steps'].apply(lambda x: ' '.join(x).split(' '))"
   ]
  },
  {
   "cell_type": "code",
   "execution_count": 117,
   "metadata": {},
   "outputs": [
    {
     "data": {
      "text/html": [
       "<div>\n",
       "<style scoped>\n",
       "    .dataframe tbody tr th:only-of-type {\n",
       "        vertical-align: middle;\n",
       "    }\n",
       "\n",
       "    .dataframe tbody tr th {\n",
       "        vertical-align: top;\n",
       "    }\n",
       "\n",
       "    .dataframe thead th {\n",
       "        text-align: right;\n",
       "    }\n",
       "</style>\n",
       "<table border=\"1\" class=\"dataframe\">\n",
       "  <thead>\n",
       "    <tr style=\"text-align: right;\">\n",
       "      <th></th>\n",
       "      <th>0</th>\n",
       "    </tr>\n",
       "    <tr>\n",
       "      <th>recipe_id</th>\n",
       "      <th></th>\n",
       "    </tr>\n",
       "  </thead>\n",
       "  <tbody>\n",
       "    <tr>\n",
       "      <th>275030.0</th>\n",
       "      <td>paula, deen, thank, watching, happened</td>\n",
       "    </tr>\n",
       "    <tr>\n",
       "      <th>275033.0</th>\n",
       "      <td>elevates, from, magazine, day, woman</td>\n",
       "    </tr>\n",
       "    <tr>\n",
       "      <th>275036.0</th>\n",
       "      <td>things, share, liked, threw, dutch</td>\n",
       "    </tr>\n",
       "    <tr>\n",
       "      <th>...</th>\n",
       "      <td>...</td>\n",
       "    </tr>\n",
       "    <tr>\n",
       "      <th>537175.0</th>\n",
       "      <td>to, appropriate, fyi, sleeve, rolls</td>\n",
       "    </tr>\n",
       "    <tr>\n",
       "      <th>537458.0</th>\n",
       "      <td>cooker, secret, comforting, mash, spuds</td>\n",
       "    </tr>\n",
       "    <tr>\n",
       "      <th>537716.0</th>\n",
       "      <td>buffalo, garnished, whiz, cheez, cheesesteaks</td>\n",
       "    </tr>\n",
       "  </tbody>\n",
       "</table>\n",
       "<p>50022 rows × 1 columns</p>\n",
       "</div>"
      ],
      "text/plain": [
       "                                                       0\n",
       "recipe_id                                               \n",
       "275030.0          paula, deen, thank, watching, happened\n",
       "275033.0            elevates, from, magazine, day, woman\n",
       "275036.0              things, share, liked, threw, dutch\n",
       "...                                                  ...\n",
       "537175.0             to, appropriate, fyi, sleeve, rolls\n",
       "537458.0         cooker, secret, comforting, mash, spuds\n",
       "537716.0   buffalo, garnished, whiz, cheez, cheesesteaks\n",
       "\n",
       "[50022 rows x 1 columns]"
      ]
     },
     "execution_count": 117,
     "metadata": {},
     "output_type": "execute_result"
    }
   ],
   "source": [
    "key_high"
   ]
  },
  {
   "cell_type": "code",
   "execution_count": 118,
   "metadata": {},
   "outputs": [
    {
     "data": {
      "text/html": [
       "<div>\n",
       "<style scoped>\n",
       "    .dataframe tbody tr th:only-of-type {\n",
       "        vertical-align: middle;\n",
       "    }\n",
       "\n",
       "    .dataframe tbody tr th {\n",
       "        vertical-align: top;\n",
       "    }\n",
       "\n",
       "    .dataframe thead th {\n",
       "        text-align: right;\n",
       "    }\n",
       "</style>\n",
       "<table border=\"1\" class=\"dataframe\">\n",
       "  <thead>\n",
       "    <tr style=\"text-align: right;\">\n",
       "      <th></th>\n",
       "      <th>0</th>\n",
       "    </tr>\n",
       "    <tr>\n",
       "      <th>recipe_id</th>\n",
       "      <th></th>\n",
       "    </tr>\n",
       "  </thead>\n",
       "  <tbody>\n",
       "    <tr>\n",
       "      <th>275022.0</th>\n",
       "      <td>mom, back, bisquick, memories, brings</td>\n",
       "    </tr>\n",
       "    <tr>\n",
       "      <th>275024.0</th>\n",
       "      <td>loved, cut, it, mine, childhood</td>\n",
       "    </tr>\n",
       "    <tr>\n",
       "      <th>275026.0</th>\n",
       "      <td>occasion, stand, oldie, goodie, company</td>\n",
       "    </tr>\n",
       "    <tr>\n",
       "      <th>...</th>\n",
       "      <td>...</td>\n",
       "    </tr>\n",
       "    <tr>\n",
       "      <th>535783.0</th>\n",
       "      <td>mash, ring, ages, beefy, oozy</td>\n",
       "    </tr>\n",
       "    <tr>\n",
       "      <th>536688.0</th>\n",
       "      <td>for, snacking, improving, immunity, honey</td>\n",
       "    </tr>\n",
       "    <tr>\n",
       "      <th>536843.0</th>\n",
       "      <td>meatballs, description, rosemary, caprese, sma...</td>\n",
       "    </tr>\n",
       "  </tbody>\n",
       "</table>\n",
       "<p>3569 rows × 1 columns</p>\n",
       "</div>"
      ],
      "text/plain": [
       "                                                           0\n",
       "recipe_id                                                   \n",
       "275022.0               mom, back, bisquick, memories, brings\n",
       "275024.0                     loved, cut, it, mine, childhood\n",
       "275026.0             occasion, stand, oldie, goodie, company\n",
       "...                                                      ...\n",
       "535783.0                       mash, ring, ages, beefy, oozy\n",
       "536688.0           for, snacking, improving, immunity, honey\n",
       "536843.0   meatballs, description, rosemary, caprese, sma...\n",
       "\n",
       "[3569 rows x 1 columns]"
      ]
     },
     "execution_count": 118,
     "metadata": {},
     "output_type": "execute_result"
    }
   ],
   "source": [
    "key_low"
   ]
  },
  {
   "cell_type": "markdown",
   "metadata": {},
   "source": [
    "## Differences in Max for TF-IDF\n",
    "- Using `sum` -> longer sentences have greater sum\n",
    "- Using `mean` -> very easy to be influenced by outlier\n",
    "- Using `partial-mean` -> get the most essence part of the sentence, however, complexity too high\n",
    "- Using `max` -> most important one word's TF-IDF"
   ]
  },
  {
   "cell_type": "code",
   "execution_count": 178,
   "metadata": {},
   "outputs": [],
   "source": [
    "# high_tfidf.iloc[:100].apply(lambda x: x.sort_values(ascending=False))"
   ]
  },
  {
   "cell_type": "code",
   "execution_count": 179,
   "metadata": {},
   "outputs": [],
   "source": [
    "tfidf_max_high = high_tfidf.max(axis=1)\n",
    "tfidf_max_low = low_tfidf.max(axis=1)"
   ]
  },
  {
   "cell_type": "code",
   "execution_count": 180,
   "metadata": {},
   "outputs": [
    {
     "data": {
      "text/plain": [
       "0        0.28\n",
       "1        0.72\n",
       "2        0.33\n",
       "         ... \n",
       "50019    0.35\n",
       "50020    0.41\n",
       "50021    0.35\n",
       "Length: 50022, dtype: float64"
      ]
     },
     "execution_count": 180,
     "metadata": {},
     "output_type": "execute_result"
    }
   ],
   "source": [
    "tfidf_max_high"
   ]
  },
  {
   "cell_type": "code",
   "execution_count": 181,
   "metadata": {},
   "outputs": [],
   "source": [
    "max_high = df_high.reset_index().assign(tfidf = tfidf_max_high, good=True)\n",
    "max_low = df_low.reset_index().assign(tfidf = tfidf_max_low, good=False)"
   ]
  },
  {
   "cell_type": "code",
   "execution_count": 182,
   "metadata": {},
   "outputs": [
    {
     "data": {
      "text/html": [
       "<div>\n",
       "<style scoped>\n",
       "    .dataframe tbody tr th:only-of-type {\n",
       "        vertical-align: middle;\n",
       "    }\n",
       "\n",
       "    .dataframe tbody tr th {\n",
       "        vertical-align: top;\n",
       "    }\n",
       "\n",
       "    .dataframe thead th {\n",
       "        text-align: right;\n",
       "    }\n",
       "</style>\n",
       "<table border=\"1\" class=\"dataframe\">\n",
       "  <thead>\n",
       "    <tr style=\"text-align: right;\">\n",
       "      <th></th>\n",
       "      <th>recipe_id</th>\n",
       "      <th>name</th>\n",
       "      <th>description</th>\n",
       "      <th>tags</th>\n",
       "      <th>...</th>\n",
       "      <th>contributor_id</th>\n",
       "      <th>rating</th>\n",
       "      <th>tfidf</th>\n",
       "      <th>good</th>\n",
       "    </tr>\n",
       "  </thead>\n",
       "  <tbody>\n",
       "    <tr>\n",
       "      <th>0</th>\n",
       "      <td>275030.0</td>\n",
       "      <td>paula deen s caramel apple cheesecake</td>\n",
       "      <td>thank you paula deen!  hubby just happened to ...</td>\n",
       "      <td>[60-minutes-or-less, time-to-make, course, pre...</td>\n",
       "      <td>...</td>\n",
       "      <td>[666723, 666723, 666723, 666723, 666723, 66672...</td>\n",
       "      <td>5.0</td>\n",
       "      <td>0.28</td>\n",
       "      <td>True</td>\n",
       "    </tr>\n",
       "    <tr>\n",
       "      <th>...</th>\n",
       "      <td>...</td>\n",
       "      <td>...</td>\n",
       "      <td>...</td>\n",
       "      <td>...</td>\n",
       "      <td>...</td>\n",
       "      <td>...</td>\n",
       "      <td>...</td>\n",
       "      <td>...</td>\n",
       "      <td>...</td>\n",
       "    </tr>\n",
       "    <tr>\n",
       "      <th>50021</th>\n",
       "      <td>537716.0</td>\n",
       "      <td>mini buffalo chicken cheesesteaks</td>\n",
       "      <td>these party-style chicken cheesesteaks are fla...</td>\n",
       "      <td>[60-minutes-or-less, time-to-make, course, mai...</td>\n",
       "      <td>...</td>\n",
       "      <td>[2001975627]</td>\n",
       "      <td>5.0</td>\n",
       "      <td>0.35</td>\n",
       "      <td>True</td>\n",
       "    </tr>\n",
       "  </tbody>\n",
       "</table>\n",
       "<p>50022 rows × 10 columns</p>\n",
       "</div>"
      ],
      "text/plain": [
       "      recipe_id                                   name  \\\n",
       "0      275030.0  paula deen s caramel apple cheesecake   \n",
       "...         ...                                    ...   \n",
       "50021  537716.0      mini buffalo chicken cheesesteaks   \n",
       "\n",
       "                                             description  \\\n",
       "0      thank you paula deen!  hubby just happened to ...   \n",
       "...                                                  ...   \n",
       "50021  these party-style chicken cheesesteaks are fla...   \n",
       "\n",
       "                                                    tags  ...  \\\n",
       "0      [60-minutes-or-less, time-to-make, course, pre...  ...   \n",
       "...                                                  ...  ...   \n",
       "50021  [60-minutes-or-less, time-to-make, course, mai...  ...   \n",
       "\n",
       "                                          contributor_id rating tfidf  good  \n",
       "0      [666723, 666723, 666723, 666723, 666723, 66672...    5.0  0.28  True  \n",
       "...                                                  ...    ...   ...   ...  \n",
       "50021                                       [2001975627]    5.0  0.35  True  \n",
       "\n",
       "[50022 rows x 10 columns]"
      ]
     },
     "metadata": {},
     "output_type": "display_data"
    }
   ],
   "source": [
    "display_df(max_high, 2)"
   ]
  },
  {
   "cell_type": "code",
   "execution_count": 183,
   "metadata": {},
   "outputs": [
    {
     "data": {
      "text/html": [
       "<div>\n",
       "<style scoped>\n",
       "    .dataframe tbody tr th:only-of-type {\n",
       "        vertical-align: middle;\n",
       "    }\n",
       "\n",
       "    .dataframe tbody tr th {\n",
       "        vertical-align: top;\n",
       "    }\n",
       "\n",
       "    .dataframe thead th {\n",
       "        text-align: right;\n",
       "    }\n",
       "</style>\n",
       "<table border=\"1\" class=\"dataframe\">\n",
       "  <thead>\n",
       "    <tr style=\"text-align: right;\">\n",
       "      <th></th>\n",
       "      <th>recipe_id</th>\n",
       "      <th>name</th>\n",
       "      <th>description</th>\n",
       "      <th>tags</th>\n",
       "      <th>...</th>\n",
       "      <th>contributor_id</th>\n",
       "      <th>rating</th>\n",
       "      <th>tfidf</th>\n",
       "      <th>good</th>\n",
       "    </tr>\n",
       "  </thead>\n",
       "  <tbody>\n",
       "    <tr>\n",
       "      <th>0</th>\n",
       "      <td>275022.0</td>\n",
       "      <td>impossible macaroni and cheese pie</td>\n",
       "      <td>one of my mom's favorite bisquick recipes. thi...</td>\n",
       "      <td>[60-minutes-or-less, time-to-make, course, mai...</td>\n",
       "      <td>...</td>\n",
       "      <td>[531768, 531768, 531768]</td>\n",
       "      <td>3.0</td>\n",
       "      <td>0.46</td>\n",
       "      <td>False</td>\n",
       "    </tr>\n",
       "    <tr>\n",
       "      <th>...</th>\n",
       "      <td>...</td>\n",
       "      <td>...</td>\n",
       "      <td>...</td>\n",
       "      <td>...</td>\n",
       "      <td>...</td>\n",
       "      <td>...</td>\n",
       "      <td>...</td>\n",
       "      <td>...</td>\n",
       "      <td>...</td>\n",
       "    </tr>\n",
       "    <tr>\n",
       "      <th>3568</th>\n",
       "      <td>536843.0</td>\n",
       "      <td>sheet pan turkey caprese meatballs with rosema...</td>\n",
       "      <td>description: try these turkey caprese meatball...</td>\n",
       "      <td>[60-minutes-or-less, time-to-make, course, mai...</td>\n",
       "      <td>...</td>\n",
       "      <td>[2001112113, 2001112113]</td>\n",
       "      <td>3.0</td>\n",
       "      <td>0.36</td>\n",
       "      <td>False</td>\n",
       "    </tr>\n",
       "  </tbody>\n",
       "</table>\n",
       "<p>3569 rows × 10 columns</p>\n",
       "</div>"
      ],
      "text/plain": [
       "     recipe_id                                               name  \\\n",
       "0     275022.0                 impossible macaroni and cheese pie   \n",
       "...        ...                                                ...   \n",
       "3568  536843.0  sheet pan turkey caprese meatballs with rosema...   \n",
       "\n",
       "                                            description  \\\n",
       "0     one of my mom's favorite bisquick recipes. thi...   \n",
       "...                                                 ...   \n",
       "3568  description: try these turkey caprese meatball...   \n",
       "\n",
       "                                                   tags  ...  \\\n",
       "0     [60-minutes-or-less, time-to-make, course, mai...  ...   \n",
       "...                                                 ...  ...   \n",
       "3568  [60-minutes-or-less, time-to-make, course, mai...  ...   \n",
       "\n",
       "                contributor_id rating tfidf   good  \n",
       "0     [531768, 531768, 531768]    3.0  0.46  False  \n",
       "...                        ...    ...   ...    ...  \n",
       "3568  [2001112113, 2001112113]    3.0  0.36  False  \n",
       "\n",
       "[3569 rows x 10 columns]"
      ]
     },
     "metadata": {},
     "output_type": "display_data"
    }
   ],
   "source": [
    "display_df(max_low, 2)"
   ]
  },
  {
   "cell_type": "code",
   "execution_count": 184,
   "metadata": {},
   "outputs": [
    {
     "data": {
      "text/html": [
       "<div>\n",
       "<style scoped>\n",
       "    .dataframe tbody tr th:only-of-type {\n",
       "        vertical-align: middle;\n",
       "    }\n",
       "\n",
       "    .dataframe tbody tr th {\n",
       "        vertical-align: top;\n",
       "    }\n",
       "\n",
       "    .dataframe thead th {\n",
       "        text-align: right;\n",
       "    }\n",
       "</style>\n",
       "<table border=\"1\" class=\"dataframe\">\n",
       "  <thead>\n",
       "    <tr style=\"text-align: right;\">\n",
       "      <th></th>\n",
       "      <th>recipe_id</th>\n",
       "      <th>name</th>\n",
       "      <th>description</th>\n",
       "      <th>tags</th>\n",
       "      <th>...</th>\n",
       "      <th>contributor_id</th>\n",
       "      <th>rating</th>\n",
       "      <th>tfidf</th>\n",
       "      <th>good</th>\n",
       "    </tr>\n",
       "  </thead>\n",
       "  <tbody>\n",
       "    <tr>\n",
       "      <th>0</th>\n",
       "      <td>275030.0</td>\n",
       "      <td>paula deen s caramel apple cheesecake</td>\n",
       "      <td>thank you paula deen!  hubby just happened to ...</td>\n",
       "      <td>[60-minutes-or-less, time-to-make, course, pre...</td>\n",
       "      <td>...</td>\n",
       "      <td>[666723, 666723, 666723, 666723, 666723, 66672...</td>\n",
       "      <td>5.0</td>\n",
       "      <td>0.28</td>\n",
       "      <td>True</td>\n",
       "    </tr>\n",
       "    <tr>\n",
       "      <th>...</th>\n",
       "      <td>...</td>\n",
       "      <td>...</td>\n",
       "      <td>...</td>\n",
       "      <td>...</td>\n",
       "      <td>...</td>\n",
       "      <td>...</td>\n",
       "      <td>...</td>\n",
       "      <td>...</td>\n",
       "      <td>...</td>\n",
       "    </tr>\n",
       "    <tr>\n",
       "      <th>3568</th>\n",
       "      <td>536843.0</td>\n",
       "      <td>sheet pan turkey caprese meatballs with rosema...</td>\n",
       "      <td>description: try these turkey caprese meatball...</td>\n",
       "      <td>[60-minutes-or-less, time-to-make, course, mai...</td>\n",
       "      <td>...</td>\n",
       "      <td>[2001112113, 2001112113]</td>\n",
       "      <td>3.0</td>\n",
       "      <td>0.36</td>\n",
       "      <td>False</td>\n",
       "    </tr>\n",
       "  </tbody>\n",
       "</table>\n",
       "<p>53591 rows × 10 columns</p>\n",
       "</div>"
      ],
      "text/plain": [
       "     recipe_id                                               name  \\\n",
       "0     275030.0              paula deen s caramel apple cheesecake   \n",
       "...        ...                                                ...   \n",
       "3568  536843.0  sheet pan turkey caprese meatballs with rosema...   \n",
       "\n",
       "                                            description  \\\n",
       "0     thank you paula deen!  hubby just happened to ...   \n",
       "...                                                 ...   \n",
       "3568  description: try these turkey caprese meatball...   \n",
       "\n",
       "                                                   tags  ...  \\\n",
       "0     [60-minutes-or-less, time-to-make, course, pre...  ...   \n",
       "...                                                 ...  ...   \n",
       "3568  [60-minutes-or-less, time-to-make, course, mai...  ...   \n",
       "\n",
       "                                         contributor_id rating tfidf   good  \n",
       "0     [666723, 666723, 666723, 666723, 666723, 66672...    5.0  0.28   True  \n",
       "...                                                 ...    ...   ...    ...  \n",
       "3568                           [2001112113, 2001112113]    3.0  0.36  False  \n",
       "\n",
       "[53591 rows x 10 columns]"
      ]
     },
     "metadata": {},
     "output_type": "display_data"
    }
   ],
   "source": [
    "big_df = pd.concat([max_high, max_low], axis=0)\n",
    "display_df(big_df, 2)"
   ]
  },
  {
   "cell_type": "markdown",
   "metadata": {},
   "source": [
    "## Permutation Testing"
   ]
  },
  {
   "cell_type": "code",
   "execution_count": 185,
   "metadata": {},
   "outputs": [],
   "source": [
    "observe = big_df.groupby('good')['tfidf'].mean().diff().abs().iloc[-1]\n",
    "        \n",
    "# making a distrbution where missing of description does not depend on dep_col\n",
    "n_repetitions = 1000\n",
    "null = []\n",
    "for _ in range(n_repetitions):\n",
    "    with_shuffled = big_df.assign(shuffle = np.random.permutation(big_df['good']))\n",
    "    difference = with_shuffled.groupby('shuffle')['tfidf'].mean().diff().abs().iloc[-1]\n",
    "    null.append(difference)"
   ]
  },
  {
   "cell_type": "code",
   "execution_count": 186,
   "metadata": {},
   "outputs": [
    {
     "data": {
      "text/html": [
       "<div>                            <div id=\"756bf883-99f8-4623-86a7-2a94fee62c60\" class=\"plotly-graph-div\" style=\"height:400px; width:600px;\"></div>            <script type=\"text/javascript\">                require([\"plotly\"], function(Plotly) {                    window.PLOTLYENV=window.PLOTLYENV || {};                                    if (document.getElementById(\"756bf883-99f8-4623-86a7-2a94fee62c60\")) {                    Plotly.newPlot(                        \"756bf883-99f8-4623-86a7-2a94fee62c60\",                        [{\"alignmentgroup\":\"True\",\"bingroup\":\"x\",\"histnorm\":\"probability\",\"hovertemplate\":\"0=%{x}\\u003cbr\\u003eprobability=%{y}\\u003cextra\\u003e\\u003c\\u002fextra\\u003e\",\"legendgroup\":\"\",\"marker\":{\"color\":\"#1F77B4\",\"pattern\":{\"shape\":\"\"}},\"name\":\"\",\"offsetgroup\":\"\",\"orientation\":\"v\",\"showlegend\":false,\"x\":[0.0011064805619110385,0.0010961740239290307,0.0015037412686469964,0.0005827049223323666,0.00295625948981898,0.001860892391717217,0.003358429976063171,0.0012754919151344302,0.00151294597905266,0.0013835198641672375,0.0013356406890915884,0.0023481258751874012,0.001680088473442809,0.00033405302806971404,0.0025492078477681313,0.00163957804575382,0.00456602219610025,0.003947024815078137,0.0005367568525357358,0.0008636893442076077,0.0015610147295254118,0.003064353141539411,0.005271289325233464,0.000825835062845337,0.00036693096895051847,0.0018209424696312704,0.00022945718528921688,0.0008668830723774779,0.0017083641524938686,0.0032271209791908118,0.001938392668158373,0.003372718659950924,0.001916504793566809,0.001980556522109156,0.00022673567359998703,0.00019134932778952507,0.000830183738832424,0.001065298504839829,0.0006503715741256744,0.0005303604860467659,0.0002991780176932468,0.0008106703487107403,8.897752217351673e-05,0.0003693623806345636,0.0027936793933634463,0.0021418959923245606,0.0012722015860899827,0.00027323675991008933,0.00029904310545503243,0.0007312622954649406,0.0002872967416350236,0.0017795711557978544,0.0005606788198707635,0.0002597265766859924,3.9455242690222825e-06,0.00022154820363012862,0.0005117419096453135,0.0009006870581636517,0.0030930082487208854,0.0038600278129117815,0.003133724452418718,0.0003093171027457875,0.0008586716180410958,0.0026518048606234412,0.0038964911451171425,0.0025439625955457346,0.001777754741540738,0.00011679361566524493,0.0001915493221697484,0.0012257356861275492,0.0018092835676072339,0.003138114806351344,0.005186265938435797,0.001059828500506288,0.0018068348199224982,0.002591166132103806,0.0012549092228239522,0.0036240229867656737,0.002097492607793572,0.002066195144686922,0.004040911749306375,0.0011060426184518746,0.00031072526376024756,0.0009408329345049204,0.002007629915925846,0.0002605301901146828,0.004317558898999263,0.0007653531306984207,0.0031341536393148517,1.9298965334590967e-05,0.00016299430885213795,0.0011695751191967974,0.00042710168728721243,0.0014840206277048074,0.00018083682170572102,0.0006244530311568242,0.0020761706577820394,0.0006459191450446933,0.0015250456452047811,0.002678557745005139,0.002799983830029551,0.0022435681565279864,0.0012394755698099669,0.001435308256819423,0.0010793673294807737,0.0031130363814674267,0.00320401472387305,0.0026419948420740025,0.0015078797299066804,6.93332958823234e-07,0.003756690189390288,0.004025073370722554,0.0002466560632649051,0.0005022048432543058,0.0005832813883841492,0.0009723974358215037,0.0029470404683383244,0.0019123300824667733,0.002417313881431904,0.0014125731941941333,0.001958296944486182,0.0018833928228345065,0.0004704030115922353,0.002311600312163986,0.0016796617373941447,0.0017856858442899526,0.0007659712765509807,0.0011837079707174292,0.0010358432674568152,0.0019033078932859104,0.0004265631493949318,0.0026656182234319203,0.0009483235737552387,0.004036189404532431,0.0024855839189714124,0.0027737864272678325,0.00032022644007073664,0.0034032335368470723,0.0007630508647306078,0.001169861954040896,0.005279914743688385,0.0031125383245616534,0.003510377068683568,0.0013135425366367914,0.0019842968100605707,0.0016201461932833783,0.00276850461029321,0.0018244070589673034,0.0024536448205667583,0.0019135024936389744,0.0021157857602847607,0.0007921256909107499,0.0014511192392341332,0.0010004772966775155,0.002325432332490718,0.0010786309511461312,0.000773352557014384,0.0014713737531324989,0.00010689144907355397,0.0026215237358119814,0.0037065070142940915,0.0015858731175156793,0.0005331729004632302,0.002650872825648909,0.0007737737415841606,0.0001457247663236294,0.00016214902287137178,0.00019241839428313368,0.002788074097947235,0.0028119144215059677,0.0016729944850391587,0.0006271689407947867,0.0002399745939184461,0.0016709453559887177,0.0013005596464589209,0.0004979947380512328,0.0002940523054473232,4.802229146677606e-05,0.0047453212012169566,0.006137093414740391,0.002013859077315827,0.0010652231360687159,0.000360738964318541,0.002673363024615738,0.0009642884903685589,0.002435797333156464,0.00027654179981556615,0.0002727205403935673,0.002256414424332831,0.0004789359686455663,0.002593179792318878,0.002384399479947452,0.0033655933738473975,0.003331893695487975,0.0034616344768024776,0.0031339432662832456,0.002586178649241766,0.0019216943775485218,0.00041155339760429177,0.0008872710708737741,0.0010093900143079426,0.003293512202630078,0.004508477073932593,0.005111252560460466,0.0009087803878770062,0.0003366684636531003,0.0018899208288586933,0.0017716572211511905,0.0021081963860871133,0.00306648234313156,0.0018734508157912666,0.00012249266746811038,0.0016306770907241752,0.0009760416494786206,0.0005263788779518164,0.0022969435601425947,0.0004561731823552462,0.002749691018739675,0.004314743879202054,0.004154311481516404,0.0023766425105926636,0.002834296319812468,0.0037014035406860435,0.0027338078678266764,0.002968203340715847,0.001382924060938484,0.0018621253387424708,0.00458999400712129,0.0005231045189604822,0.0018685342603905752,0.00032884000952521086,0.003627350281541597,0.00124640379976948,0.005114867190904315,0.0011313547485714004,0.0020056905374675194,0.0011030537626335324,0.0018311076045315344,0.0022666663111937657,0.0008894484587213536,0.0013049408218143155,2.566933816250394e-05,0.0016792685203947388,0.000703568438906732,0.0014742538224318258,0.0009705376759693296,0.005200669642667299,0.001212424976063553,0.0004450143899307757,7.06808740928433e-05,0.0020271386330678043,0.0021086527271385047,0.00229942800124483,0.004259197219231348,0.0049941160744571,0.0011560145797387955,0.0015076141878851423,0.00018428025479516608,0.0019582296938792654,0.0026820065949964556,0.0016540290294472793,0.004645460571850946,0.001228724193196029,0.005246140772976582,0.0012369422420130394,0.0010894246490033566,0.0027889675742843734,0.00023615229566370521,0.0006605395740220121,0.0005732034772822914,0.0023722940675652837,0.0027856835540306935,0.0024835374864167203,0.004168120169791123,0.0024862561403853345,0.00021662909069980474,0.0014282804756685086,0.00030414650368409957,0.0020343164048959306,0.0006132140918103657,0.0021740614784623302,0.005739934081135933,0.003792190178850907,0.00016846708136686317,0.0034637101644245383,0.002493290165955786,0.0006196064718479444,0.0008606519082793307,0.0015965626522712606,0.0008900191880887309,0.0016828936981836962,0.0006703918602696257,0.001176858528400604,0.0013040257470097183,0.0032046307349261616,0.0005129664662809619,0.001222667226069396,0.000364843683059779,0.001563302544453804,0.002422241000180847,0.005908487173980181,0.002277154124387004,0.0003383588834973694,0.0017518306512375181,0.0012601994566613373,0.0013203954050802214,0.0005782011734530856,0.002292189151853974,0.0018878157538001483,0.0012464663149283628,0.001143987132667501,0.002743360910204662,0.0013383155638438393,0.0014867480427850355,0.0022806558885016814,0.0025188584875553977,0.0007588164726265445,0.0006845727593165485,0.004713466507020203,0.0010040398056819777,0.001244017072536463,0.0035726431255472813,0.00233759897511715,0.0006546065045224259,0.002455401194028428,0.0028284416427373227,0.0013111626773305574,0.005292848630928049,0.0020557137603371967,0.0020969490603563457,0.0009342772160265689,0.0011367366353242647,0.0016138658256264482,0.0009732800735413605,0.000807239528019088,0.0004627117493918309,0.0013896350749469377,0.00010986705880500214,0.0037465228271695294,0.0005103378352452337,0.0001657123124258475,0.0026488023189097376,0.001956342970137137,0.002611872176843888,0.0019466778920909644,0.0010035867760577188,0.00039335409954521783,0.0006420268177763644,0.001781009813023815,0.0004987278364394498,0.0015354328529580408,0.0016252526744453544,0.0005912373673716553,0.0009983350491404308,0.003298680986084268,0.0018314209648350177,0.0007347195182433874,0.0016682184677061507,8.991805168073741e-05,0.003796895208706852,0.0011908998926021264,0.0013761768108602745,0.0022431129691118934,0.0010776446967409314,0.0028451793158523753,0.0007889983516969346,0.0024683005020017523,0.004188404367868548,0.0019652669766981323,0.0026659363137951364,0.0009359953157821455,0.0020458208763627916,0.0022701176278556723,0.0027213106979468438,0.0016938729698738886,0.0009615532283551165,0.0031374056747622836,0.00013839524949887938,0.0007095478156518564,0.004016163292507036,0.0020989065139550567,0.00018222073287516016,0.003862128322894398,0.0025677094878318596,0.0015083269637068408,0.0030749054682697174,0.0008700452859585206,0.000759356529700772,0.0016243147719190443,0.0013740854916791667,0.0012194710537409281,0.003378299652524952,0.003556361544795883,0.00016684247669679353,0.0015342496873278488,0.006304722362392157,0.0010733997113335225,0.001068981821688797,0.00037979196180426555,0.001587794261318498,0.0003009628527740338,0.0009014827044601659,0.0007407963301004905,0.00126437281840025,3.5239111374152365e-05,0.0062913987575411445,0.0006450620472850388,0.0013035380357706017,0.003442960881411994,0.003275323989221368,0.0031365381115670554,0.002026088302148954,0.003153426153445771,0.0024269641089607052,0.0018722588260791095,5.286275090610193e-06,0.0009208825113690144,0.0006435080098827206,0.0012500049824614723,0.007270455541749321,0.0024615946364079377,0.0026866522772036605,0.0005681073253552271,0.003330424767118201,0.00011504012357277382,0.0004348205078141265,0.003541033489169787,0.0027673965615235274,0.00017296395389443386,0.000333813470433042,0.004404421854103946,0.00013699066266942284,0.004177347634968687,0.001794891023773837,0.0010259066814244377,0.0025218920915218157,0.002152963034810773,0.0024274404472593436,0.00015614655590701076,0.0013276082945573031,0.0021289355345717187,0.0016936061120864654,0.0016717753097695853,0.000404836893424132,0.001449949516988236,0.003251808273873835,0.0004866364181234095,0.001921062724017042,0.0012478159842018721,0.0007476081197949069,0.0005707709667611138,0.0014603821870488587,0.0020231395025890886,0.004114958475234576,0.0019562295289188847,0.0021389694114903324,0.0013508284353555555,0.0008958235884413135,0.002042997503294841,0.0018559883571468982,0.005059119130122525,7.158869597445605e-05,0.004670711117178872,0.004074615328376774,0.005010118533957941,0.00039732928922070476,0.0018922689939011583,0.00148651856829074,0.002287378773172255,0.0013127744526385543,0.0007331940052047736,0.00024721276066325126,0.00011248438410516037,0.0015644441714395274,0.0011811840106725757,0.002917317199055691,0.0009006258763375463,0.0003569498938942317,0.0009179295417945377,0.000158804884459407,0.0032660327142711165,0.001007788990396996,0.0021946468953935594,0.0005143477833997046,0.0005724990599951796,0.001452627003314222,0.003738967679996541,0.0013090308117022498,0.004581715549943632,0.004720657046807297,0.00011111392180201962,0.0010710732427078318,7.162610940653069e-05,0.0013243193017998256,0.0022736614409993305,0.0027650806239444825,0.0021210639865981706,0.0029329284313519,0.002918469061662876,0.00127545784723182,0.0015446237378368144,0.0030367954991659674,0.0013727276065912397,0.0016510708357908022,0.0012398922606716711,0.001471083727365985,0.0013206203305844433,0.00018930683476547916,7.955654270019874e-05,0.004000631271805333,0.001692022391142578,0.00022341558568045317,0.0012180721327652022,0.0011730348223842335,0.0022284433029906014,0.0006281291343390727,0.0014579059677595763,0.0029343361305260163,0.00021690204962421245,0.0022157826052267016,0.0036530967554210814,0.000781199982975822,0.00041928523046719235,0.0029734077782042623,0.0011859710945346658,0.0008753775144090259,0.0015998004835935942,0.0014284763147749957,0.00018949032850795744,0.001551609500279938,0.0021718367286202023,0.00045688731242371494,0.00015755428593078324,0.001948959543213613,0.003702104976946119,0.0019099483193049105,0.0015209584099564188,0.00201841798097252,0.001495965074816752,0.0035347812313831772,0.0004103143972825074,0.0020179114585903712,0.0028042808366122163,0.002189836136409107,0.0013065480665706009,0.00241766308223601,0.0008132011441167042,0.005385495949600583,0.0005907099705567687,0.0002857487770211442,5.854461618215456e-06,0.002675558522735877,0.0005988681199345924,0.000885032202925129,0.0035746965085526883,0.0008788942089724694,0.0037581730107840716,0.00023422812775708568,0.002915538758210212,0.004529608817332054,0.003372120553445712,0.001713148093111183,0.0001609247787004997,0.0013195776328132625,0.002295052244831952,0.0008659607485445031,0.002204650216632076,0.0007138206319067253,0.0012412606952343364,0.0010012159640615526,0.0002701831549342115,0.0025365568145422346,0.0014614163119183177,0.0008446068208781687,0.0005783878010705568,0.004234166866006972,0.004437431020155647,0.0003175543609709175,0.0011451905432879328,0.001308072178999753,0.0023242311470244026,0.0022649442272763554,0.0006536442130796183,0.002173433413998782,0.0006954392442264368,0.0012578012674442363,0.002208661639021503,0.004134664776826613,0.0003239537088306488,0.0035142552711603936,0.0010133570029347005,0.0007313841468248872,0.005111061960449692,0.0017615784019430758,0.0035186402187484256,0.0025698711387174833,0.003373550139270487,0.004525791478933006,0.0016847687639907072,0.002308746331585121,0.0009898931833035585,0.0025546683343496968,0.0030753633673519243,0.002838053309421995,0.0014985265160433747,0.0007814167033535213,0.0009090504153856926,0.0018732427476125801,0.00020580016897220332,0.0011812947536141705,0.0007395369561696286,0.0012630107890021502,0.002870448740054432,0.000531670232742365,0.0007342937807049421,0.0010285821352304936,0.0015542384966547584,0.0016777169120648083,0.0007990415239438886,0.0010084138458518743,0.00020303701865226342,0.004145405566442217,0.0007721518060709309,0.0013798605349871762,0.00019869439118586074,0.00408120619941299,0.0006604827928503032,0.000617034206146283,0.0006098948757259359,0.0007457524779174718,0.00014704314665520135,0.0023117781107429014,0.00028183282747068494,0.0001509371814773508,0.0001862898331536078,0.0030124725242233197,0.0016458677035334768,0.003921376878509297,0.0033526173543256266,0.0034828853519150438,0.001081791229645579,0.0014887073243338156,0.0008957718882671162,0.0031028322183893065,0.0013823042736397784,0.002676437173140145,1.4257590171429246e-05,0.0028101425070459762,0.00010280881611346437,0.0008792207966029086,0.0002437012056026866,0.0002804228699821443,0.0004936490863055032,0.0009694306309175893,0.003014388848208094,0.0020963596124679573,0.0013116399393367506,0.0024914733880879725,0.002800665122609569,9.864282588878392e-05,0.002240672811634037,0.0012251544271928982,0.0005605613757760919,0.001994228914825591,0.0006532233251906883,0.0017149618548424894,0.0022915750148881364,0.0010210042590185209,0.00032476178788565235,0.00044991924952830775,0.003963310139942444,0.0002534958539372467,5.689030027383746e-05,0.0008880868118715801,0.005227494860247706,0.0008610479412163863,0.0010479480830324905,0.0036262210085401536,0.0005429681573168033,0.005803461812798116,0.004627067963385412,0.00039946905790649856,0.001151109857275845,0.004618721456199015,0.003501028113500615,0.0031867694132836633,0.0011050184905661564,0.007013069414474937,0.001327997893159405,0.00032708430221634055,0.004142146685688408,0.004614405871249394,0.00041408835699929814,0.0007556079844198704,0.0005337866223468768,0.002341280875855667,0.0015487863535131874,0.00037746519484810337,0.005206149233498714,0.003670849795437414,0.002423213758170173,0.002292155971027665,0.0015603012643911618,0.002186083257222138,0.0010262065554625388,0.0021358142593168594,0.00018590958764935772,0.0028324013823078364,0.0014376200126579586,0.00018548129033002514,0.0019361538333334538,0.000530230774591689,0.003031595821187172,0.00025343153318213574,0.00022430035152470884,0.0003688253644612005,0.0016215474496366622,0.003504358642702321,0.0036497553160649288,0.00030401871812874015,0.0027994517989395895,0.0005627846610637977,0.0016769881653116436,0.0001447222803140913,0.004271957956239303,3.1181995755358294e-05,0.0018640584970432972,0.0011485081283010845,0.0003790338117358738,0.0047101108398056035,0.003340353916820582,0.0035491696219205338,0.0008822605701066522,0.0016997699536993038,0.00138321384665141,0.0013057806523411597,7.813738257811398e-06,0.0025551023284303698,0.0017769603121761124,2.7805487021970166e-05,0.0038603213905678,0.0007730470434504921,0.0007367427214370892,0.001910282684447151,0.00017752397679821064,0.0003696086736645898,0.0015293824642413911,0.0003504177379436424,0.0027970188700155996,0.0018490901139149307,0.0033889775450742232,0.0017040322424488608,0.0023922582348725463,0.0022700041315780184,0.0001494263740852153,0.0001274037956527363,0.0012208114709981732,5.571078115096384e-05,0.000933213342855066,0.001215231262721217,0.0008201749224977517,0.0007862125935185205,0.0016799413459497314,9.357416101374305e-05,0.002368994753412068,0.00018392806634520698,0.000872579578467203,0.0027898665463423344,0.0009639416850855675,0.0003511473252788,0.0009130565296178728,0.0026445158117668344,0.0033566024951133255,0.0013007746935249642,0.00014781622872434008,0.0020129153498056884,0.0008707024712974465,0.000393705498701602,0.00043739750216470474,0.002603232580479342,5.632354709406151e-06,0.0013317550244049126,0.002828570030932176,0.004566873020505846,0.0013894373712322605,0.003952083746916912,0.0026362912753705725,0.002119518594294656,0.00090561836259484,0.002853786036849437,0.002116451248875495,0.0013879584845303272,0.0006589611010123231,0.0008698382528103954,0.00010047136681406998,0.0013707084241261214,0.0027551465541762465,0.0015967441825772144,0.00020333994200683048,0.00027939447768909886,0.0019117852818421044,0.0032338446458916037,0.0008615444356341317,0.003721859422937901,0.0013734333313743519,0.0031886735585991977,0.002778303435347962,0.0009213810134139355,0.004267459574260668,0.0007196085267719976,0.001468648424432173,0.000392212974071493,0.0005267433601923166,0.004334851213135593,0.0020799883271886976,0.0012267030121498879,0.0005924005708748403,0.0006742500440843346,0.0009401235430156474,0.0023579085021088186,0.0008485252114691089,0.0006573820914512751,0.00020832687484551027,0.006210475376836555,0.005343591660491587,0.0009516626868604772,0.0029926206569805824,0.0028554656829553604,0.0014370300619060972,0.0029158900857318426,0.0008577166233934563,0.0031156779945225588,0.0003638825224942521,0.0027778163766043473,0.003888142985624621,0.001022188751668207,0.00011780964033647479,0.006963405973068881,0.0006846725065859371,0.0014591358168568047,0.0003766028045545933,0.0018133606898987908,0.003258374570130118,0.000848396261510731,0.0022355456942490526,0.001161599983048045,0.0032741767000522004,0.0011266764235537408,0.004336146092098481,0.0009213182884837967,0.0004060433498649374,0.0018228839156468335,0.004752244471768474,0.0006250853272873336,0.0010691286698188973,0.00256225481646144,0.003918927556952112,0.0010985530256517606,0.0014231993570018586,0.0008138086107604692,0.0005550174749081593,0.001372830217723775,0.0011105357392839355,0.000968037305219549,0.002620210973633741,0.002394788557130323,0.002291170068442927,0.0005480518456098538,0.0006290873748007741,0.0017852601438462234,0.0039990124076634825,0.001201494954797322,0.0006725009075803645,0.003622602317880086,0.0024946414167379416,8.702978474894874e-05,0.00023386431747540737,0.001900679628079771,4.6708590369204384e-05,0.0009490264257007164,0.00043473473584160205,0.00446428050377673,0.0012964372799993962,0.0010385166932505019,0.0002087081256529344,0.0010367597258458816,0.0027988003981482823,0.000508534292544105,0.002851582759102411,0.001425693009153406,0.0028030969735393096,3.6408176136648596e-05,0.0005804921373680494,0.0028631949206529006,0.004389182239322054,0.0035164790724551698,0.0005521746506311764,0.0027179540918961798,0.0012199986847822863,0.0006039872382716527,0.002443181095496738,0.00040496109209942066,0.0010958606234373058,0.00011346606764522926,0.0011511852100742348,0.0034789013525577395,0.003628862168876479,0.004821670769375563,0.0028532531281621476,0.0007057357012672516,0.0022870529511379023,0.002238758681654851,0.0007293541230085632,0.0011309824313813777,4.225112744682402e-05,0.0003917790330033033,0.002796101352227409,0.0016851837467128927,0.000800954079004712,0.0018317221297816655,0.0004989614217300042,0.001638563969539819,0.0034710632247493267,0.004024034071968774,0.002065041968680903,0.00539692690176502,0.003097879120687097,0.004493317954365361,0.0002534020298484707,0.003437022199620776,0.0001251411204250541,0.004567899699096878,5.334316924232585e-05,0.002116473848039646,0.0003588261468643883,0.004581387237536427,0.00023430552611763966,0.001812939893474641,0.001969835403830833,0.0022198307336945278,0.00023722116035856944,0.0002564335345604518,6.415882537047501e-05,0.0007607043977244099,0.0018135413088341545,0.0023527971661680414,0.0019338807795437063,0.004913115895159581,0.0014660651404911351,0.004375469911281793,0.002019952771618927,0.00112310921741815,0.002205319000796735,0.0002938761528060718,0.0019683658491101985,0.00393269270183122,0.00200336533849238,0.0044096360379494715,0.001121497364088786,0.0007405799341206332,0.00208109316401478,0.003674762345972582,0.001329964939952022,0.0017053231812370062,0.0020793844543723905,0.0015592931811943544,0.0007691911754304503,0.004541807746417992,0.0010027032160395688,0.0026935227140130746,0.0005741159699896303,0.0023830752821675794,0.0017423445101027446,0.001117019902462213,0.0019295515317570011,0.0014271857616945938,0.001128530106298209,0.000530870428204766,0.001468579712379181,0.001122414282358597,0.0039717160206710345,0.0029393107547697195,0.0033255229609684966,0.0019240653694561627,0.00010223425666572306,0.0037027928255679576,0.0021048533090711197,0.0027011204419787327,0.0003598177039385031,1.3750902088105477e-06,0.0023738446692218584,0.0016166567958423306,0.0003523412759449118,0.0021992215447558805,0.0014505519110765142,0.0002986493364530718,0.0020190664876842956,0.0015047589792880345,0.0006601950017240399,0.001076115695218205],\"xaxis\":\"x\",\"yaxis\":\"y\",\"type\":\"histogram\"}],                        {\"template\":{\"data\":{\"barpolar\":[{\"marker\":{\"line\":{\"color\":\"white\",\"width\":0.5},\"pattern\":{\"fillmode\":\"overlay\",\"size\":10,\"solidity\":0.2}},\"type\":\"barpolar\"}],\"bar\":[{\"error_x\":{\"color\":\"rgb(36,36,36)\"},\"error_y\":{\"color\":\"rgb(36,36,36)\"},\"marker\":{\"line\":{\"color\":\"white\",\"width\":0.5},\"pattern\":{\"fillmode\":\"overlay\",\"size\":10,\"solidity\":0.2}},\"type\":\"bar\"}],\"carpet\":[{\"aaxis\":{\"endlinecolor\":\"rgb(36,36,36)\",\"gridcolor\":\"white\",\"linecolor\":\"white\",\"minorgridcolor\":\"white\",\"startlinecolor\":\"rgb(36,36,36)\"},\"baxis\":{\"endlinecolor\":\"rgb(36,36,36)\",\"gridcolor\":\"white\",\"linecolor\":\"white\",\"minorgridcolor\":\"white\",\"startlinecolor\":\"rgb(36,36,36)\"},\"type\":\"carpet\"}],\"choropleth\":[{\"colorbar\":{\"outlinewidth\":1,\"tickcolor\":\"rgb(36,36,36)\",\"ticks\":\"outside\"},\"type\":\"choropleth\"}],\"contourcarpet\":[{\"colorbar\":{\"outlinewidth\":1,\"tickcolor\":\"rgb(36,36,36)\",\"ticks\":\"outside\"},\"type\":\"contourcarpet\"}],\"contour\":[{\"colorbar\":{\"outlinewidth\":1,\"tickcolor\":\"rgb(36,36,36)\",\"ticks\":\"outside\"},\"colorscale\":[[0.0,\"#440154\"],[0.1111111111111111,\"#482878\"],[0.2222222222222222,\"#3e4989\"],[0.3333333333333333,\"#31688e\"],[0.4444444444444444,\"#26828e\"],[0.5555555555555556,\"#1f9e89\"],[0.6666666666666666,\"#35b779\"],[0.7777777777777778,\"#6ece58\"],[0.8888888888888888,\"#b5de2b\"],[1.0,\"#fde725\"]],\"type\":\"contour\"}],\"heatmapgl\":[{\"colorbar\":{\"outlinewidth\":1,\"tickcolor\":\"rgb(36,36,36)\",\"ticks\":\"outside\"},\"colorscale\":[[0.0,\"#440154\"],[0.1111111111111111,\"#482878\"],[0.2222222222222222,\"#3e4989\"],[0.3333333333333333,\"#31688e\"],[0.4444444444444444,\"#26828e\"],[0.5555555555555556,\"#1f9e89\"],[0.6666666666666666,\"#35b779\"],[0.7777777777777778,\"#6ece58\"],[0.8888888888888888,\"#b5de2b\"],[1.0,\"#fde725\"]],\"type\":\"heatmapgl\"}],\"heatmap\":[{\"colorbar\":{\"outlinewidth\":1,\"tickcolor\":\"rgb(36,36,36)\",\"ticks\":\"outside\"},\"colorscale\":[[0.0,\"#440154\"],[0.1111111111111111,\"#482878\"],[0.2222222222222222,\"#3e4989\"],[0.3333333333333333,\"#31688e\"],[0.4444444444444444,\"#26828e\"],[0.5555555555555556,\"#1f9e89\"],[0.6666666666666666,\"#35b779\"],[0.7777777777777778,\"#6ece58\"],[0.8888888888888888,\"#b5de2b\"],[1.0,\"#fde725\"]],\"type\":\"heatmap\"}],\"histogram2dcontour\":[{\"colorbar\":{\"outlinewidth\":1,\"tickcolor\":\"rgb(36,36,36)\",\"ticks\":\"outside\"},\"colorscale\":[[0.0,\"#440154\"],[0.1111111111111111,\"#482878\"],[0.2222222222222222,\"#3e4989\"],[0.3333333333333333,\"#31688e\"],[0.4444444444444444,\"#26828e\"],[0.5555555555555556,\"#1f9e89\"],[0.6666666666666666,\"#35b779\"],[0.7777777777777778,\"#6ece58\"],[0.8888888888888888,\"#b5de2b\"],[1.0,\"#fde725\"]],\"type\":\"histogram2dcontour\"}],\"histogram2d\":[{\"colorbar\":{\"outlinewidth\":1,\"tickcolor\":\"rgb(36,36,36)\",\"ticks\":\"outside\"},\"colorscale\":[[0.0,\"#440154\"],[0.1111111111111111,\"#482878\"],[0.2222222222222222,\"#3e4989\"],[0.3333333333333333,\"#31688e\"],[0.4444444444444444,\"#26828e\"],[0.5555555555555556,\"#1f9e89\"],[0.6666666666666666,\"#35b779\"],[0.7777777777777778,\"#6ece58\"],[0.8888888888888888,\"#b5de2b\"],[1.0,\"#fde725\"]],\"type\":\"histogram2d\"}],\"histogram\":[{\"marker\":{\"line\":{\"color\":\"white\",\"width\":0.6}},\"type\":\"histogram\"}],\"mesh3d\":[{\"colorbar\":{\"outlinewidth\":1,\"tickcolor\":\"rgb(36,36,36)\",\"ticks\":\"outside\"},\"type\":\"mesh3d\"}],\"parcoords\":[{\"line\":{\"colorbar\":{\"outlinewidth\":1,\"tickcolor\":\"rgb(36,36,36)\",\"ticks\":\"outside\"}},\"type\":\"parcoords\"}],\"pie\":[{\"automargin\":true,\"type\":\"pie\"}],\"scatter3d\":[{\"line\":{\"colorbar\":{\"outlinewidth\":1,\"tickcolor\":\"rgb(36,36,36)\",\"ticks\":\"outside\"}},\"marker\":{\"colorbar\":{\"outlinewidth\":1,\"tickcolor\":\"rgb(36,36,36)\",\"ticks\":\"outside\"}},\"type\":\"scatter3d\"}],\"scattercarpet\":[{\"marker\":{\"colorbar\":{\"outlinewidth\":1,\"tickcolor\":\"rgb(36,36,36)\",\"ticks\":\"outside\"}},\"type\":\"scattercarpet\"}],\"scattergeo\":[{\"marker\":{\"colorbar\":{\"outlinewidth\":1,\"tickcolor\":\"rgb(36,36,36)\",\"ticks\":\"outside\"}},\"type\":\"scattergeo\"}],\"scattergl\":[{\"marker\":{\"colorbar\":{\"outlinewidth\":1,\"tickcolor\":\"rgb(36,36,36)\",\"ticks\":\"outside\"}},\"type\":\"scattergl\"}],\"scattermapbox\":[{\"marker\":{\"colorbar\":{\"outlinewidth\":1,\"tickcolor\":\"rgb(36,36,36)\",\"ticks\":\"outside\"}},\"type\":\"scattermapbox\"}],\"scatterpolargl\":[{\"marker\":{\"colorbar\":{\"outlinewidth\":1,\"tickcolor\":\"rgb(36,36,36)\",\"ticks\":\"outside\"}},\"type\":\"scatterpolargl\"}],\"scatterpolar\":[{\"marker\":{\"colorbar\":{\"outlinewidth\":1,\"tickcolor\":\"rgb(36,36,36)\",\"ticks\":\"outside\"}},\"type\":\"scatterpolar\"}],\"scatter\":[{\"fillpattern\":{\"fillmode\":\"overlay\",\"size\":10,\"solidity\":0.2},\"type\":\"scatter\"}],\"scatterternary\":[{\"marker\":{\"colorbar\":{\"outlinewidth\":1,\"tickcolor\":\"rgb(36,36,36)\",\"ticks\":\"outside\"}},\"type\":\"scatterternary\"}],\"surface\":[{\"colorbar\":{\"outlinewidth\":1,\"tickcolor\":\"rgb(36,36,36)\",\"ticks\":\"outside\"},\"colorscale\":[[0.0,\"#440154\"],[0.1111111111111111,\"#482878\"],[0.2222222222222222,\"#3e4989\"],[0.3333333333333333,\"#31688e\"],[0.4444444444444444,\"#26828e\"],[0.5555555555555556,\"#1f9e89\"],[0.6666666666666666,\"#35b779\"],[0.7777777777777778,\"#6ece58\"],[0.8888888888888888,\"#b5de2b\"],[1.0,\"#fde725\"]],\"type\":\"surface\"}],\"table\":[{\"cells\":{\"fill\":{\"color\":\"rgb(237,237,237)\"},\"line\":{\"color\":\"white\"}},\"header\":{\"fill\":{\"color\":\"rgb(217,217,217)\"},\"line\":{\"color\":\"white\"}},\"type\":\"table\"}]},\"layout\":{\"annotationdefaults\":{\"arrowhead\":0,\"arrowwidth\":1},\"autotypenumbers\":\"strict\",\"coloraxis\":{\"colorbar\":{\"outlinewidth\":1,\"tickcolor\":\"rgb(36,36,36)\",\"ticks\":\"outside\"}},\"colorscale\":{\"diverging\":[[0.0,\"rgb(103,0,31)\"],[0.1,\"rgb(178,24,43)\"],[0.2,\"rgb(214,96,77)\"],[0.3,\"rgb(244,165,130)\"],[0.4,\"rgb(253,219,199)\"],[0.5,\"rgb(247,247,247)\"],[0.6,\"rgb(209,229,240)\"],[0.7,\"rgb(146,197,222)\"],[0.8,\"rgb(67,147,195)\"],[0.9,\"rgb(33,102,172)\"],[1.0,\"rgb(5,48,97)\"]],\"sequential\":[[0.0,\"#440154\"],[0.1111111111111111,\"#482878\"],[0.2222222222222222,\"#3e4989\"],[0.3333333333333333,\"#31688e\"],[0.4444444444444444,\"#26828e\"],[0.5555555555555556,\"#1f9e89\"],[0.6666666666666666,\"#35b779\"],[0.7777777777777778,\"#6ece58\"],[0.8888888888888888,\"#b5de2b\"],[1.0,\"#fde725\"]],\"sequentialminus\":[[0.0,\"#440154\"],[0.1111111111111111,\"#482878\"],[0.2222222222222222,\"#3e4989\"],[0.3333333333333333,\"#31688e\"],[0.4444444444444444,\"#26828e\"],[0.5555555555555556,\"#1f9e89\"],[0.6666666666666666,\"#35b779\"],[0.7777777777777778,\"#6ece58\"],[0.8888888888888888,\"#b5de2b\"],[1.0,\"#fde725\"]]},\"colorway\":[\"#1F77B4\",\"#FF7F0E\",\"#2CA02C\",\"#D62728\",\"#9467BD\",\"#8C564B\",\"#E377C2\",\"#7F7F7F\",\"#BCBD22\",\"#17BECF\"],\"font\":{\"color\":\"rgb(36,36,36)\"},\"geo\":{\"bgcolor\":\"white\",\"lakecolor\":\"white\",\"landcolor\":\"white\",\"showlakes\":true,\"showland\":true,\"subunitcolor\":\"white\"},\"hoverlabel\":{\"align\":\"left\"},\"hovermode\":\"closest\",\"mapbox\":{\"style\":\"light\"},\"paper_bgcolor\":\"white\",\"plot_bgcolor\":\"white\",\"polar\":{\"angularaxis\":{\"gridcolor\":\"rgb(232,232,232)\",\"linecolor\":\"rgb(36,36,36)\",\"showgrid\":false,\"showline\":true,\"ticks\":\"outside\"},\"bgcolor\":\"white\",\"radialaxis\":{\"gridcolor\":\"rgb(232,232,232)\",\"linecolor\":\"rgb(36,36,36)\",\"showgrid\":false,\"showline\":true,\"ticks\":\"outside\"}},\"scene\":{\"xaxis\":{\"backgroundcolor\":\"white\",\"gridcolor\":\"rgb(232,232,232)\",\"gridwidth\":2,\"linecolor\":\"rgb(36,36,36)\",\"showbackground\":true,\"showgrid\":false,\"showline\":true,\"ticks\":\"outside\",\"zeroline\":false,\"zerolinecolor\":\"rgb(36,36,36)\"},\"yaxis\":{\"backgroundcolor\":\"white\",\"gridcolor\":\"rgb(232,232,232)\",\"gridwidth\":2,\"linecolor\":\"rgb(36,36,36)\",\"showbackground\":true,\"showgrid\":false,\"showline\":true,\"ticks\":\"outside\",\"zeroline\":false,\"zerolinecolor\":\"rgb(36,36,36)\"},\"zaxis\":{\"backgroundcolor\":\"white\",\"gridcolor\":\"rgb(232,232,232)\",\"gridwidth\":2,\"linecolor\":\"rgb(36,36,36)\",\"showbackground\":true,\"showgrid\":false,\"showline\":true,\"ticks\":\"outside\",\"zeroline\":false,\"zerolinecolor\":\"rgb(36,36,36)\"}},\"shapedefaults\":{\"fillcolor\":\"black\",\"line\":{\"width\":0},\"opacity\":0.3},\"ternary\":{\"aaxis\":{\"gridcolor\":\"rgb(232,232,232)\",\"linecolor\":\"rgb(36,36,36)\",\"showgrid\":false,\"showline\":true,\"ticks\":\"outside\"},\"baxis\":{\"gridcolor\":\"rgb(232,232,232)\",\"linecolor\":\"rgb(36,36,36)\",\"showgrid\":false,\"showline\":true,\"ticks\":\"outside\"},\"bgcolor\":\"white\",\"caxis\":{\"gridcolor\":\"rgb(232,232,232)\",\"linecolor\":\"rgb(36,36,36)\",\"showgrid\":false,\"showline\":true,\"ticks\":\"outside\"}},\"title\":{\"x\":0.5,\"xanchor\":\"center\"},\"xaxis\":{\"automargin\":true,\"gridcolor\":\"rgb(232,232,232)\",\"linecolor\":\"rgb(36,36,36)\",\"showgrid\":true,\"showline\":true,\"ticks\":\"outside\",\"title\":{\"standoff\":15},\"zeroline\":false,\"zerolinecolor\":\"rgb(36,36,36)\"},\"yaxis\":{\"automargin\":true,\"gridcolor\":\"rgb(232,232,232)\",\"linecolor\":\"rgb(36,36,36)\",\"showgrid\":true,\"showline\":true,\"ticks\":\"outside\",\"title\":{\"standoff\":15},\"zeroline\":false,\"zerolinecolor\":\"rgb(36,36,36)\"},\"autosize\":true,\"height\":400,\"margin\":{\"b\":30,\"l\":30,\"r\":30,\"t\":30},\"width\":600}},\"xaxis\":{\"anchor\":\"y\",\"domain\":[0.0,1.0],\"title\":{\"text\":\"0\"}},\"yaxis\":{\"anchor\":\"x\",\"domain\":[0.0,1.0],\"title\":{\"text\":\"probability\"}},\"legend\":{\"tracegroupgap\":0},\"title\":{\"text\":\"Permutation Testing Using Max TF-IDF\"},\"barmode\":\"relative\",\"shapes\":[{\"line\":{\"color\":\"red\",\"width\":1},\"opacity\":1,\"type\":\"line\",\"x0\":0.012580214423045466,\"x1\":0.012580214423045466,\"xref\":\"x\",\"y0\":0,\"y1\":1,\"yref\":\"y domain\"}]},                        {\"responsive\": true}                    ).then(function(){\n",
       "                            \n",
       "var gd = document.getElementById('756bf883-99f8-4623-86a7-2a94fee62c60');\n",
       "var x = new MutationObserver(function (mutations, observer) {{\n",
       "        var display = window.getComputedStyle(gd).display;\n",
       "        if (!display || display === 'none') {{\n",
       "            console.log([gd, 'removed!']);\n",
       "            Plotly.purge(gd);\n",
       "            observer.disconnect();\n",
       "        }}\n",
       "}});\n",
       "\n",
       "// Listen for the removal of the full notebook cells\n",
       "var notebookContainer = gd.closest('#notebook-container');\n",
       "if (notebookContainer) {{\n",
       "    x.observe(notebookContainer, {childList: true});\n",
       "}}\n",
       "\n",
       "// Listen for the clearing of the current output cell\n",
       "var outputEl = gd.closest('.output');\n",
       "if (outputEl) {{\n",
       "    x.observe(outputEl, {childList: true});\n",
       "}}\n",
       "\n",
       "                        })                };                });            </script>        </div>"
      ]
     },
     "metadata": {},
     "output_type": "display_data"
    }
   ],
   "source": [
    "fig = px.histogram(pd.DataFrame(null), x=0, histnorm='probability', title=f'Permutation Testing Using Max TF-IDF')\n",
    "fig.add_vline(x=observe, line_color='red', line_width=1, opacity=1)"
   ]
  },
  {
   "cell_type": "code",
   "execution_count": 187,
   "metadata": {},
   "outputs": [
    {
     "data": {
      "text/plain": [
       "0.0"
      ]
     },
     "execution_count": 187,
     "metadata": {},
     "output_type": "execute_result"
    }
   ],
   "source": [
    "(observe <= null).mean()"
   ]
  },
  {
   "cell_type": "markdown",
   "metadata": {},
   "source": [
    "Seems like the partial mean TF-IDF (mean for top 20 words) for high and low rating recipes does not come from the same distribution. Thus, **we reject the null hypothesis.**\n",
    "- Note: when this bar of high rating is 4.5, this is different"
   ]
  },
  {
   "cell_type": "markdown",
   "metadata": {},
   "source": []
  }
 ],
 "metadata": {
  "kernelspec": {
   "display_name": "dsc80",
   "language": "python",
   "name": "python3"
  },
  "language_info": {
   "codemirror_mode": {
    "name": "ipython",
    "version": 3
   },
   "file_extension": ".py",
   "mimetype": "text/x-python",
   "name": "python",
   "nbconvert_exporter": "python",
   "pygments_lexer": "ipython3",
   "version": "3.8.18"
  }
 },
 "nbformat": 4,
 "nbformat_minor": 2
}
