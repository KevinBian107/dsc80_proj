{
 "cells": [
  {
   "cell_type": "markdown",
   "metadata": {},
   "source": [
    "# Data Cleaning & Exploratory Data Analysis\n",
    "### Some Potential Ideas:\n",
    "1. Sentiment Analysis with `review` column\n",
    "2. Using   `recipe` column and feature engineering (length of `recipe`, TF-IDF, ...) to predict `ratings`"
   ]
  },
  {
   "cell_type": "code",
   "execution_count": 363,
   "metadata": {},
   "outputs": [
    {
     "name": "stdout",
     "output_type": "stream",
     "text": [
      "The autoreload extension is already loaded. To reload it, use:\n",
      "  %reload_ext autoreload\n"
     ]
    }
   ],
   "source": [
    "%load_ext autoreload\n",
    "%autoreload 2"
   ]
  },
  {
   "cell_type": "code",
   "execution_count": 318,
   "metadata": {},
   "outputs": [],
   "source": [
    "import pandas as pd\n",
    "import numpy as np\n",
    "from pathlib import Path\n",
    "import plotly.express as px\n",
    "pd.options.plotting.backend = 'plotly'\n",
    "from transform import *"
   ]
  },
  {
   "cell_type": "code",
   "execution_count": 319,
   "metadata": {},
   "outputs": [],
   "source": [
    "interactions = pd.read_csv('food_data/RAW_interactions.csv')\n",
    "recipes = pd.read_csv('food_data/RAW_recipes.csv')"
   ]
  },
  {
   "cell_type": "code",
   "execution_count": 320,
   "metadata": {},
   "outputs": [
    {
     "data": {
      "text/plain": [
       "(731927, 5)"
      ]
     },
     "execution_count": 320,
     "metadata": {},
     "output_type": "execute_result"
    }
   ],
   "source": [
    "interactions.shape"
   ]
  },
  {
   "cell_type": "code",
   "execution_count": 321,
   "metadata": {},
   "outputs": [
    {
     "data": {
      "text/plain": [
       "(83782, 12)"
      ]
     },
     "execution_count": 321,
     "metadata": {},
     "output_type": "execute_result"
    }
   ],
   "source": [
    "recipes.shape"
   ]
  },
  {
   "cell_type": "markdown",
   "metadata": {},
   "source": [
    "## Merge:\n",
    "1. Left merge the recipes and interactions datasets together.\n",
    "\n",
    "2. In the merged dataset, fill all ratings of 0 with np.nan. (Think about why this is a reasonable step, and include your justification in your website.)\n",
    "\n",
    "3. Find the average rating per recipe, as a Series.\n",
    "\n",
    "4. Add this Series containing the average rating per recipe back to the recipes dataset however you’d like (e.g., by merging). Use the resulting dataset for all of your analysis. (For the purposes of Project 4, the 'review' column in the interactions dataset doesn’t have much use.)"
   ]
  },
  {
   "cell_type": "code",
   "execution_count": 322,
   "metadata": {},
   "outputs": [
    {
     "data": {
      "text/plain": [
       "(234429, 17)"
      ]
     },
     "execution_count": 322,
     "metadata": {},
     "output_type": "execute_result"
    }
   ],
   "source": [
    "step0 = recipes.merge(interactions, how='left', left_on='id', right_on='recipe_id')\n",
    "# merge on ones that are all in recipes\n",
    "step0.shape"
   ]
  },
  {
   "cell_type": "code",
   "execution_count": 323,
   "metadata": {},
   "outputs": [],
   "source": [
    "step1 = step0.pipe(initial)"
   ]
  },
  {
   "cell_type": "markdown",
   "metadata": {},
   "source": [
    "## Data Cleaning & Transformation:\n",
    "**Analysis**:\n",
    "1. Some columns, like `nutrition`, contain values that look like lists, but are actually strings that look like lists. You may want to turn the strings into actual lists, or create columns for every unique value in those lists.\n",
    "    - For instance, per the data dictionary, each value in the 'nutrition' column contains information in the form: \"[calories (#), total fat (PDV), sugar (PDV), sodium (PDV), protein (PDV), saturated fat (PDV), and carbohydrates (PDV)]\"; you could create individual columns in your dataset titled 'calories', 'total fat', etc.\n",
    "2. Convert to list for `steps`, `ingredients`, and `tags`\n",
    "3. Convert `date` and `submitted` to Timestamp object and rename as `review_date` and `recipe_date`\n",
    "4. Drop same `id` (same with `recipe_id`)\n",
    "\n",
    "**Report**:\n",
    "Describe, in detail, the data cleaning steps you took and how they affected your analyses. The steps should be explained in reference to the data generating process. Show the head of your cleaned DataFrame (see Part 2: Report for instructions)."
   ]
  },
  {
   "cell_type": "code",
   "execution_count": 360,
   "metadata": {},
   "outputs": [],
   "source": [
    "step2 = step1.pipe(transform_df)"
   ]
  },
  {
   "cell_type": "code",
   "execution_count": 361,
   "metadata": {},
   "outputs": [
    {
     "data": {
      "text/plain": [
       "Index(['name', 'minutes', 'contributor_id', 'recipe_date', 'tags', 'n_steps',\n",
       "       'steps', 'description', 'ingredients', 'n_ingredients', 'user_id',\n",
       "       'recipe_id', 'review_date', 'rating', 'review', 'avg_rating',\n",
       "       'calories', 'total_fat', 'sugar', 'sodium', 'protein', 'sat_fat',\n",
       "       'carbs'],\n",
       "      dtype='object')"
      ]
     },
     "execution_count": 361,
     "metadata": {},
     "output_type": "execute_result"
    }
   ],
   "source": [
    "step2.columns"
   ]
  },
  {
   "cell_type": "code",
   "execution_count": 362,
   "metadata": {},
   "outputs": [
    {
     "data": {
      "text/html": [
       "<div>\n",
       "<style scoped>\n",
       "    .dataframe tbody tr th:only-of-type {\n",
       "        vertical-align: middle;\n",
       "    }\n",
       "\n",
       "    .dataframe tbody tr th {\n",
       "        vertical-align: top;\n",
       "    }\n",
       "\n",
       "    .dataframe thead th {\n",
       "        text-align: right;\n",
       "    }\n",
       "</style>\n",
       "<table border=\"1\" class=\"dataframe\">\n",
       "  <thead>\n",
       "    <tr style=\"text-align: right;\">\n",
       "      <th></th>\n",
       "      <th>name</th>\n",
       "      <th>minutes</th>\n",
       "      <th>contributor_id</th>\n",
       "      <th>recipe_date</th>\n",
       "      <th>tags</th>\n",
       "      <th>n_steps</th>\n",
       "      <th>steps</th>\n",
       "      <th>description</th>\n",
       "      <th>ingredients</th>\n",
       "      <th>n_ingredients</th>\n",
       "      <th>...</th>\n",
       "      <th>rating</th>\n",
       "      <th>review</th>\n",
       "      <th>avg_rating</th>\n",
       "      <th>calories</th>\n",
       "      <th>total_fat</th>\n",
       "      <th>sugar</th>\n",
       "      <th>sodium</th>\n",
       "      <th>protein</th>\n",
       "      <th>sat_fat</th>\n",
       "      <th>carbs</th>\n",
       "    </tr>\n",
       "  </thead>\n",
       "  <tbody>\n",
       "    <tr>\n",
       "      <th>0</th>\n",
       "      <td>1 brownies in the world    best ever</td>\n",
       "      <td>40</td>\n",
       "      <td>985201</td>\n",
       "      <td>2008-10-27</td>\n",
       "      <td>[60-minutes-or-less, time-to-make, course, mai...</td>\n",
       "      <td>10</td>\n",
       "      <td>[heat the oven to 350f and arrange the rack in...</td>\n",
       "      <td>these are the most; chocolatey, moist, rich, d...</td>\n",
       "      <td>[bittersweet chocolate, unsalted butter, eggs,...</td>\n",
       "      <td>9</td>\n",
       "      <td>...</td>\n",
       "      <td>4.0</td>\n",
       "      <td>These were pretty good, but took forever to ba...</td>\n",
       "      <td>4.0</td>\n",
       "      <td>138.4</td>\n",
       "      <td>10.0</td>\n",
       "      <td>50.0</td>\n",
       "      <td>3.0</td>\n",
       "      <td>3.0</td>\n",
       "      <td>19.0</td>\n",
       "      <td>6.0</td>\n",
       "    </tr>\n",
       "    <tr>\n",
       "      <th>1</th>\n",
       "      <td>1 in canada chocolate chip cookies</td>\n",
       "      <td>45</td>\n",
       "      <td>1848091</td>\n",
       "      <td>2011-04-11</td>\n",
       "      <td>[60-minutes-or-less, time-to-make, cuisine, pr...</td>\n",
       "      <td>12</td>\n",
       "      <td>[pre-heat oven the 350 degrees f, in a mixing ...</td>\n",
       "      <td>this is the recipe that we use at my school ca...</td>\n",
       "      <td>[white sugar, brown sugar, salt, margarine, eg...</td>\n",
       "      <td>11</td>\n",
       "      <td>...</td>\n",
       "      <td>5.0</td>\n",
       "      <td>Originally I was gonna cut the recipe in half ...</td>\n",
       "      <td>5.0</td>\n",
       "      <td>595.1</td>\n",
       "      <td>46.0</td>\n",
       "      <td>211.0</td>\n",
       "      <td>22.0</td>\n",
       "      <td>13.0</td>\n",
       "      <td>51.0</td>\n",
       "      <td>26.0</td>\n",
       "    </tr>\n",
       "    <tr>\n",
       "      <th>2</th>\n",
       "      <td>412 broccoli casserole</td>\n",
       "      <td>40</td>\n",
       "      <td>50969</td>\n",
       "      <td>2008-05-30</td>\n",
       "      <td>[60-minutes-or-less, time-to-make, course, mai...</td>\n",
       "      <td>6</td>\n",
       "      <td>[preheat oven to 350 degrees, spray a 2 quart ...</td>\n",
       "      <td>since there are already 411 recipes for brocco...</td>\n",
       "      <td>[frozen broccoli cuts, cream of chicken soup, ...</td>\n",
       "      <td>9</td>\n",
       "      <td>...</td>\n",
       "      <td>5.0</td>\n",
       "      <td>This was one of the best broccoli casseroles t...</td>\n",
       "      <td>5.0</td>\n",
       "      <td>194.8</td>\n",
       "      <td>20.0</td>\n",
       "      <td>6.0</td>\n",
       "      <td>32.0</td>\n",
       "      <td>22.0</td>\n",
       "      <td>36.0</td>\n",
       "      <td>3.0</td>\n",
       "    </tr>\n",
       "    <tr>\n",
       "      <th>3</th>\n",
       "      <td>412 broccoli casserole</td>\n",
       "      <td>40</td>\n",
       "      <td>50969</td>\n",
       "      <td>2008-05-30</td>\n",
       "      <td>[60-minutes-or-less, time-to-make, course, mai...</td>\n",
       "      <td>6</td>\n",
       "      <td>[preheat oven to 350 degrees, spray a 2 quart ...</td>\n",
       "      <td>since there are already 411 recipes for brocco...</td>\n",
       "      <td>[frozen broccoli cuts, cream of chicken soup, ...</td>\n",
       "      <td>9</td>\n",
       "      <td>...</td>\n",
       "      <td>5.0</td>\n",
       "      <td>I made this for my son's first birthday party ...</td>\n",
       "      <td>5.0</td>\n",
       "      <td>194.8</td>\n",
       "      <td>20.0</td>\n",
       "      <td>6.0</td>\n",
       "      <td>32.0</td>\n",
       "      <td>22.0</td>\n",
       "      <td>36.0</td>\n",
       "      <td>3.0</td>\n",
       "    </tr>\n",
       "    <tr>\n",
       "      <th>4</th>\n",
       "      <td>412 broccoli casserole</td>\n",
       "      <td>40</td>\n",
       "      <td>50969</td>\n",
       "      <td>2008-05-30</td>\n",
       "      <td>[60-minutes-or-less, time-to-make, course, mai...</td>\n",
       "      <td>6</td>\n",
       "      <td>[preheat oven to 350 degrees, spray a 2 quart ...</td>\n",
       "      <td>since there are already 411 recipes for brocco...</td>\n",
       "      <td>[frozen broccoli cuts, cream of chicken soup, ...</td>\n",
       "      <td>9</td>\n",
       "      <td>...</td>\n",
       "      <td>5.0</td>\n",
       "      <td>Loved this.  Be sure to completely thaw the br...</td>\n",
       "      <td>5.0</td>\n",
       "      <td>194.8</td>\n",
       "      <td>20.0</td>\n",
       "      <td>6.0</td>\n",
       "      <td>32.0</td>\n",
       "      <td>22.0</td>\n",
       "      <td>36.0</td>\n",
       "      <td>3.0</td>\n",
       "    </tr>\n",
       "  </tbody>\n",
       "</table>\n",
       "<p>5 rows × 23 columns</p>\n",
       "</div>"
      ],
      "text/plain": [
       "                                   name  minutes  contributor_id recipe_date  \\\n",
       "0  1 brownies in the world    best ever       40          985201  2008-10-27   \n",
       "1    1 in canada chocolate chip cookies       45         1848091  2011-04-11   \n",
       "2                412 broccoli casserole       40           50969  2008-05-30   \n",
       "3                412 broccoli casserole       40           50969  2008-05-30   \n",
       "4                412 broccoli casserole       40           50969  2008-05-30   \n",
       "\n",
       "                                                tags  n_steps  \\\n",
       "0  [60-minutes-or-less, time-to-make, course, mai...       10   \n",
       "1  [60-minutes-or-less, time-to-make, cuisine, pr...       12   \n",
       "2  [60-minutes-or-less, time-to-make, course, mai...        6   \n",
       "3  [60-minutes-or-less, time-to-make, course, mai...        6   \n",
       "4  [60-minutes-or-less, time-to-make, course, mai...        6   \n",
       "\n",
       "                                               steps  \\\n",
       "0  [heat the oven to 350f and arrange the rack in...   \n",
       "1  [pre-heat oven the 350 degrees f, in a mixing ...   \n",
       "2  [preheat oven to 350 degrees, spray a 2 quart ...   \n",
       "3  [preheat oven to 350 degrees, spray a 2 quart ...   \n",
       "4  [preheat oven to 350 degrees, spray a 2 quart ...   \n",
       "\n",
       "                                         description  \\\n",
       "0  these are the most; chocolatey, moist, rich, d...   \n",
       "1  this is the recipe that we use at my school ca...   \n",
       "2  since there are already 411 recipes for brocco...   \n",
       "3  since there are already 411 recipes for brocco...   \n",
       "4  since there are already 411 recipes for brocco...   \n",
       "\n",
       "                                         ingredients  n_ingredients  ...  \\\n",
       "0  [bittersweet chocolate, unsalted butter, eggs,...              9  ...   \n",
       "1  [white sugar, brown sugar, salt, margarine, eg...             11  ...   \n",
       "2  [frozen broccoli cuts, cream of chicken soup, ...              9  ...   \n",
       "3  [frozen broccoli cuts, cream of chicken soup, ...              9  ...   \n",
       "4  [frozen broccoli cuts, cream of chicken soup, ...              9  ...   \n",
       "\n",
       "   rating                                             review avg_rating  \\\n",
       "0     4.0  These were pretty good, but took forever to ba...        4.0   \n",
       "1     5.0  Originally I was gonna cut the recipe in half ...        5.0   \n",
       "2     5.0  This was one of the best broccoli casseroles t...        5.0   \n",
       "3     5.0  I made this for my son's first birthday party ...        5.0   \n",
       "4     5.0  Loved this.  Be sure to completely thaw the br...        5.0   \n",
       "\n",
       "   calories total_fat   sugar sodium protein sat_fat  carbs  \n",
       "0     138.4      10.0    50.0    3.0     3.0    19.0    6.0  \n",
       "1     595.1      46.0   211.0   22.0    13.0    51.0   26.0  \n",
       "2     194.8      20.0     6.0   32.0    22.0    36.0    3.0  \n",
       "3     194.8      20.0     6.0   32.0    22.0    36.0    3.0  \n",
       "4     194.8      20.0     6.0   32.0    22.0    36.0    3.0  \n",
       "\n",
       "[5 rows x 23 columns]"
      ]
     },
     "execution_count": 362,
     "metadata": {},
     "output_type": "execute_result"
    }
   ],
   "source": [
    "step2.head()"
   ]
  },
  {
   "cell_type": "markdown",
   "metadata": {},
   "source": [
    "## Univariate Analysis:\n",
    "**Analysis**:\n",
    "Look at the distributions of relevant columns separately by using DataFrame operations and drawing at least two relevant plots.\n",
    "\n",
    "**Report**:\n",
    "Embed at least one plotly plot you created in your notebook that displays the distribution of a single column (see Part 2: Report for instructions). Include a 1-2 sentence explanation about your plot, making sure to describe and interpret any trends present. (Your notebook will likely have more visualizations than your website, and that’s fine. Feel free to embed more than one univariate visualization in your website if you’d like, but make sure that each embedded plot is accompanied by a description.)\n"
   ]
  },
  {
   "cell_type": "code",
   "execution_count": null,
   "metadata": {},
   "outputs": [],
   "source": []
  },
  {
   "cell_type": "markdown",
   "metadata": {},
   "source": [
    "## Bivariate Analysis:\n",
    "**Analysis**:\n",
    "Look at the statistics of pairs of columns to identify possible associations. For instance, you may create scatter plots and plot conditional distributions, or box-plots. You must plot at least two such plots in your notebook. The results of your bivariate analyses will be helpful in identifying interesting hypothesis tests!\n",
    "\n",
    "**Report**:\n",
    "Embed at least one plotly plot that displays the relationship between two columns. Include a 1-2 sentence explanation about your plot, making sure to describe and interpret any trends present. (Your notebook will likely have more visualizations than your website, and that’s fine. Feel free to embed more than one bivariate visualization in your website if you’d like, but make sure that each embedded plot is accompanied by a description.)"
   ]
  },
  {
   "cell_type": "code",
   "execution_count": null,
   "metadata": {},
   "outputs": [],
   "source": []
  },
  {
   "cell_type": "markdown",
   "metadata": {},
   "source": [
    "## Interesting Aggregates:\n",
    "**Analysis**:\n",
    "Choose columns to group and pivot by and examine aggregate statistics.\n",
    "\n",
    "**Report**:\n",
    "Embed at least one grouped table or pivot table in your website and explain its significance."
   ]
  },
  {
   "cell_type": "code",
   "execution_count": null,
   "metadata": {},
   "outputs": [],
   "source": []
  }
 ],
 "metadata": {
  "kernelspec": {
   "display_name": "dsc80",
   "language": "python",
   "name": "python3"
  },
  "language_info": {
   "codemirror_mode": {
    "name": "ipython",
    "version": 3
   },
   "file_extension": ".py",
   "mimetype": "text/x-python",
   "name": "python",
   "nbconvert_exporter": "python",
   "pygments_lexer": "ipython3",
   "version": "3.8.18"
  }
 },
 "nbformat": 4,
 "nbformat_minor": 2
}
